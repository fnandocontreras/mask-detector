{
 "cells": [
  {
   "cell_type": "code",
   "execution_count": 1,
   "metadata": {},
   "outputs": [
    {
     "name": "stderr",
     "output_type": "stream",
     "text": [
      "Using TensorFlow backend.\n"
     ]
    }
   ],
   "source": [
    "import tensorflow as tf\n",
    "from matplotlib import pyplot as plt\n",
    "from mtcnn import MTCNN\n",
    "from matplotlib.patches import Rectangle, Circle\n",
    "from os import listdir, path\n",
    "import numpy as np\n",
    "import pandas as pd\n",
    "from PIL import Image"
   ]
  },
  {
   "cell_type": "code",
   "execution_count": 16,
   "metadata": {},
   "outputs": [],
   "source": [
    "basepath = 'data'\n",
    "images_path = path.join(basepath, 'data-collected')\n",
    "export_path = path.join(basepath, 'export')\n",
    "detector = MTCNN()\n",
    "\n",
    "def draw_faces(result_list, filename, label):\n",
    "    # plot each face as a subplot\n",
    "    for i in range(len(result_list)):\n",
    "        path_to_image = path.join(images_path, label,  filename)\n",
    "        img = Image.open(path_to_image)\n",
    "        img_width, img_height = img.size\n",
    "        \n",
    "        x1, y1, width, height = result_list[i]['box']\n",
    "        x1 = max(x1, 0)\n",
    "        y1 = max(y1, 0)\n",
    "        x2 = min(img_width, width + x1)\n",
    "        y2 = min(img_height, height + y1)\n",
    "        box = (x1, y1, x2, y2)\n",
    "        crop = img.crop(box)\n",
    "        crop.save(path.join(export_path, label , f'{filename}_{i}.jpg'))\n",
    "    \n",
    "        "
   ]
  },
  {
   "cell_type": "markdown",
   "metadata": {},
   "source": [
    "### Loading images from disk and saving only face rectangles into two datasets: \"mask\", \"nomask\""
   ]
  },
  {
   "cell_type": "code",
   "execution_count": 17,
   "metadata": {
    "scrolled": true
   },
   "outputs": [
    {
     "data": {
      "text/plain": [
       "<Figure size 432x288 with 0 Axes>"
      ]
     },
     "metadata": {},
     "output_type": "display_data"
    }
   ],
   "source": [
    "for image_folder in listdir(images_path):\n",
    "    class_folder = path.join(images_path, image_folder)\n",
    "    for file in listdir(class_folder):\n",
    "        if file.endswith(\".jpeg\") or file.endswith(\".jpg\") or file.endswith(\".png\"):\n",
    "            image_path = path.join(class_folder, file)\n",
    "            plt.clf()\n",
    "            image = plt.imread(image_path)[:,:,:3]\n",
    "            face_boxes = detector.detect_faces(image)\n",
    "            draw_faces(face_boxes, file, image_folder)\n"
   ]
  }
 ],
 "metadata": {
  "kernelspec": {
   "display_name": "maskdetector",
   "language": "python",
   "name": "maskdetector"
  },
  "language_info": {
   "codemirror_mode": {
    "name": "ipython",
    "version": 3
   },
   "file_extension": ".py",
   "mimetype": "text/x-python",
   "name": "python",
   "nbconvert_exporter": "python",
   "pygments_lexer": "ipython3",
   "version": "3.7.7"
  }
 },
 "nbformat": 4,
 "nbformat_minor": 2
}
